{
 "cells": [
  {
   "cell_type": "markdown",
   "metadata": {},
   "source": [
    "# ネイピア数と自然対数\n",
    "ネイピア数と自然対数は、人工知能の様々な場面で使用します。"
   ]
  },
  {
   "cell_type": "markdown",
   "metadata": {},
   "source": [
    "### ネイピア数とは？\n",
    "\n",
    "**ネイピア数**$e$は、数学的にとても便利な性質を持った数です。ネイピア数の値は、円周率$\\pi$のように無限に桁が続く小数です。\n",
    "\n",
    "$$e = 2.71828 18284 59045 23536 02874 71352 …$$ \n",
    "\n",
    "ネイピア数は、次のような累乗の形でよく用いられます。\n",
    "\n",
    "（式 1）\n",
    "$$ y=e^x $$\n",
    "\n",
    "この式は、次のように微分しても式が変わらないという大変便利な特徴を持っています。\n",
    "\n",
    "$$ \\begin{aligned}\n",
    "\\frac{\\partial y}{\\partial x} &= \\lim_{\\Delta x \\to 0}\\frac{e^{x+\\Delta x}-e^x}{\\Delta x}  \\\\\n",
    "&= e^x\n",
    "\\end{aligned} $$\n",
    "\n",
    "この性質のためネイピア数は数学的に扱いやすく、人工知能における様々な式で使用されています。  \n",
    "\n",
    "（式 1）は次のように表記することもあります。\n",
    "\n",
    "$$ y=\\exp(x) $$\n",
    "\n",
    "この表記は、$( )$の中に多くの記述が必要な場合に便利です。  \n",
    "$e$の右肩に小さな文字で多くの記述があると、式が読み辛くなってしまうからです。  "
   ]
  },
  {
   "cell_type": "markdown",
   "metadata": {},
   "source": [
    "### ネイピア数の実装\n",
    "ネイピア数は、NumPyにおいて`e`で取得することができます。  \n",
    "また、ネイピア数の累乗はNumPyのexp関数で実装することができます。"
   ]
  },
  {
   "cell_type": "code",
   "execution_count": 5,
   "metadata": {},
   "outputs": [
    {
     "name": "stdout",
     "output_type": "stream",
     "text": [
      "2.718281828459045\n",
      "7.38905609893065\n"
     ]
    }
   ],
   "source": [
    "import numpy as np\n",
    "\n",
    "print(np.e)  # ネイピア数\n",
    "print(np.exp(2))  #eの2乗"
   ]
  },
  {
   "cell_type": "markdown",
   "metadata": {},
   "source": [
    "### 自然対数とは？\n",
    "\n",
    "$y=e^x$を、左辺が$x$になるように変形しましょう。  \n",
    "$\\log$の記号を用いて、$x$を次のように表します。\n",
    "\n",
    "$$ x=\\log_{e}y $$ \n",
    "\n",
    "この式において、$x$は「$e$を累乗して$y$になる数」になります。  \n",
    "この式で、$x$と$y$を入れ替えます。\n",
    "\n",
    "$$ y=\\log_{e}x $$ \n",
    "\n",
    "この$\\log_{e}x$を、**自然対数**と呼びます。  \n",
    "この式では、$e$を$y$乗すると$x$になります。  \n",
    "自然対数は、「$e$を何乗したら$x$になるか」を表します。\n",
    "\n",
    "この表記において、ネイピア数$e$はよく次のように省略されます。\n",
    "\n",
    "$$ y=\\log x $$\n",
    "\n",
    "この自然対数の導関数は、以下のように$x$の逆数となります。\n",
    "\n",
    "$$ \\frac{d}{dx}\\log x = \\frac{1}{x} $$\n",
    "\n",
    "なお、$y=a^x$（aは任意の実数）のような累乗の導関数は、自然対数を使用して表されます。  \n",
    "\n",
    "$$ \\frac{d}{dx}a^x = a^x \\log{a} $$\n",
    "\n",
    "上記の式において、特に$a$がネイピア数$e$の場合以下の式になります。\n",
    "\n",
    "$$ \\frac{d}{dx}e^x = e^x $$"
   ]
  },
  {
   "cell_type": "markdown",
   "metadata": {},
   "source": [
    "### 自然対数の実装\n",
    "自然対数は、NumPyのlog関数を使って実装することができます。"
   ]
  },
  {
   "cell_type": "code",
   "execution_count": 2,
   "metadata": {},
   "outputs": [
    {
     "name": "stdout",
     "output_type": "stream",
     "text": [
      "1.0\n"
     ]
    }
   ],
   "source": [
    "import numpy as np\n",
    "\n",
    "print(np.log(np.e))  # eはeの1乗"
   ]
  },
  {
   "cell_type": "markdown",
   "metadata": {},
   "source": [
    "### 演習:\n",
    "以下のコードを補完し、ネイピア数の累乗と自然対数のグラフを描画しましょう。"
   ]
  },
  {
   "cell_type": "code",
   "execution_count": 4,
   "metadata": {},
   "outputs": [
    {
     "data": {
      "image/png": "[encoded data removed]",
      "text/plain": [
       "<Figure size 432x288 with 1 Axes>"
      ]
     },
     "metadata": {
      "needs_background": "light"
     },
     "output_type": "display_data"
    },
    {
     "data": {
      "image/png": "[encoded data removed]",
      "text/plain": [
       "<Figure size 432x288 with 1 Axes>"
      ]
     },
     "metadata": {
      "needs_background": "light"
     },
     "output_type": "display_data"
    }
   ],
   "source": [
    "import numpy as np\n",
    "import matplotlib.pyplot as plt\n",
    "\n",
    "x = np.linspace(0.1, 2)\n",
    "y_e = np.exp(x)  # ネイピア数の累乗\n",
    "y_log = np.log(x)  # 自然対数\n",
    "\n",
    "plt.plot(x, y_e, label=\"y_e\")\n",
    "plt.legend()\n",
    "plt.show()\n",
    "\n",
    "plt.plot(x, y_log, label=\"y_t\")\n",
    "plt.legend()\n",
    "plt.show()"
   ]
  },
  {
   "cell_type": "code",
   "execution_count": null,
   "metadata": {},
   "outputs": [],
   "source": []
  }
 ],
 "metadata": {
  "kernelspec": {
   "display_name": "Python 3",
   "language": "python",
   "name": "python3"
  },
  "language_info": {
   "codemirror_mode": {
    "name": "ipython",
    "version": 3
   },
   "file_extension": ".py",
   "mimetype": "text/x-python",
   "name": "python",
   "nbconvert_exporter": "python",
   "pygments_lexer": "ipython3",
   "version": "3.7.4"
  }
 },
 "nbformat": 4,
 "nbformat_minor": 2
}
