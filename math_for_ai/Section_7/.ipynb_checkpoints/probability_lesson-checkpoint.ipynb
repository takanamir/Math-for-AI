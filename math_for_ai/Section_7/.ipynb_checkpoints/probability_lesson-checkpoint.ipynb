{
 "cells": [
  {
   "cell_type": "markdown",
   "metadata": {},
   "source": [
    "# 確率の概念\n",
    "現実世界の現象を表現するために、確率の概念は有用です。人工知能は、結果を確率で出力することがあります。"
   ]
  },
  {
   "cell_type": "markdown",
   "metadata": {},
   "source": [
    "### 確率とは？\n",
    "\n",
    "**確率**（Probability）はある現象が起きることが期待される度合いのことですが、次の式で表されます。  \n",
    "\n",
    "$$P(A)=\\frac{a}{n}$$\n",
    "\n",
    "この式において、$P(A)$は事象$A$が起きる確率、$a$は事象Aが起きる場合の数、$n$は全ての場合の数です。\n",
    "\n",
    "例として、コインを投げて表が上になる確率を考えます。  \n",
    "コインを投げたときに上になる面は、表と裏の2通りですが、どちらの面が上になるのも同じ程度に期待されるとします。  \n",
    "このとき、場合の数は2で、表の面が出るという事象$A$の場合の数は1です。\n",
    "従って、確率は次の通りになります。\n",
    "\n",
    "$$P(A)=\\frac{a}{n}=\\frac{1}{2}$$\n",
    "\n",
    "表が上になるという事象は50%期待されることになります。\n",
    "\n",
    "同じように、サイコロで5が出るという事象Aが起きる確率は、場合の数が1で全ての場合の数が6なので、次のようになります。  \n",
    "\n",
    "$$P(A)=\\frac{a}{n}=\\frac{1}{6}$$\n",
    "\n",
    "$\\frac{1}{6}$なので、約16.7%期待されることになります。\n",
    "\n",
    "次に、2つのサイコロを振って、目の合計が5になる確率を求めます。  \n",
    "目の合計が5になるという事象Aは、(1, 4)、(2, 3)、（3, 2）、(4, 1)の4つの場合があります。\n",
    "全ての場合の数は、$6\\times 6=36$通りになります。  \n",
    "従って、この場合の確率は以下の通りになります。\n",
    "\n",
    "$$P(A)=\\frac{a}{n}=\\frac{4}{36}=\\frac{1}{9}$$\n",
    "\n",
    "$\\frac{1}{9}$なので約11.1%ですね。  \n",
    "2つのサイコロを振って合計が5になるのは、11.1%程度期待できるということになります。"
   ]
  },
  {
   "cell_type": "markdown",
   "metadata": {},
   "source": [
    "### 余事象\n",
    "事象 $A$ に対して「$A$が起こらないという事象」を$A$の余事象といいます。  \n",
    "$A$の余事象は、$\\bar{A}$と表します。\n",
    "\n",
    "余事象$\\bar{A}$が起きる確率は、事象$A$が起きる確率$P(A)$を用いて次のように表されます。  \n",
    "\n",
    "$$P(\\bar{A})=1-P(A)$$\n",
    "\n",
    "例えば、2つのサイコロを振って目の合計が5になる確率は$\\frac{1}{9}$でしたが、「2つのサイコロを振って目の合計が5以外になる確率は」次のように求めることができます。\n",
    "\n",
    "$$P(\\bar{A})=1-\\frac{1}{9}=\\frac{8}{9}$$\n",
    "\n",
    "$\\frac{8}{9}$の確率で、目の合計は5以外になることになります。\n",
    "\n",
    "目の合計が5以外になる全ての場合をリストアップするのは大変ですが、余事象を使うことで比較的簡単に確率を求めることができます。"
   ]
  },
  {
   "cell_type": "markdown",
   "metadata": {},
   "source": [
    "### 確率への収束\n",
    "多くの試行を重ねると、(事象の発生数/試行数)が確率に収束していきます。  \n",
    "以下は、サイコロを何度も振って5が出た回数を数え、(5が出た回数/振った回数)の変遷を表示するコードです。"
   ]
  },
  {
   "cell_type": "code",
   "execution_count": 3,
   "metadata": {},
   "outputs": [
    {
     "data": {
      "image/png": "[encoded data removed]",
      "text/plain": [
       "<Figure size 432x288 with 1 Axes>"
      ]
     },
     "metadata": {
      "needs_background": "light"
     },
     "output_type": "display_data"
    }
   ],
   "source": [
    "import numpy as np\n",
    "import matplotlib.pyplot as plt\n",
    "\n",
    "x = []\n",
    "y = []\n",
    "total = 0  # 試行数\n",
    "num_5 = 0  # 5が出た回数\n",
    "n = 5000  # サイコロを振る回数\n",
    "\n",
    "for i in range(n):\n",
    "    if np.random.randint(6)+1 == 5:\n",
    "        num_5 += 1\n",
    "    total += 1\n",
    "    x.append(i)\n",
    "    y.append(num_5/total)\n",
    "    \n",
    "plt.plot(x, y)\n",
    "plt.plot(x, [1/6]*n, linestyle=\"dashed\")\n",
    "plt.show()"
   ]
  },
  {
   "cell_type": "markdown",
   "metadata": {},
   "source": [
    "(5が出た回数/試行数)は確率（約16.7%）に収束していきます。  \n",
    "このように、確率はある事象が起きることが期待される度合いを意味します。"
   ]
  },
  {
   "cell_type": "markdown",
   "metadata": {},
   "source": [
    "### 演習:\n",
    "以下のコードを補完し、（コインで表が上になる/コインを投げた回数）が確率$\\frac{1}{2}$に収束することを確認しましょう。"
   ]
  },
  {
   "cell_type": "code",
   "execution_count": 4,
   "metadata": {},
   "outputs": [
    {
     "data": {
      "image/png": "[encoded data removed]",
      "text/plain": [
       "<Figure size 432x288 with 1 Axes>"
      ]
     },
     "metadata": {
      "needs_background": "light"
     },
     "output_type": "display_data"
    }
   ],
   "source": [
    "import numpy as np\n",
    "import matplotlib.pyplot as plt\n",
    "\n",
    "x = []\n",
    "y = []\n",
    "total = 0  # 試行数\n",
    "num_front = 0  # 表が上になった回数\n",
    "n = 5000  # コインを投げる回数\n",
    "\n",
    "for i in range(n):\n",
    "    if np.random.randint(2) == 0:\n",
    "        num_front += 1\n",
    "    total += 1\n",
    "    x.append(i)\n",
    "    y.append(num_front/total)\n",
    "    \n",
    "plt.plot(x, y)\n",
    "plt.plot(x, [1/2]*n, linestyle=\"dashed\")\n",
    "plt.show()"
   ]
  },
  {
   "cell_type": "code",
   "execution_count": null,
   "metadata": {},
   "outputs": [],
   "source": []
  }
 ],
 "metadata": {
  "kernelspec": {
   "display_name": "Python 3",
   "language": "python",
   "name": "python3"
  },
  "language_info": {
   "codemirror_mode": {
    "name": "ipython",
    "version": 3
   },
   "file_extension": ".py",
   "mimetype": "text/x-python",
   "name": "python",
   "nbconvert_exporter": "python",
   "pygments_lexer": "ipython3",
   "version": "3.7.4"
  }
 },
 "nbformat": 4,
 "nbformat_minor": 2
}
